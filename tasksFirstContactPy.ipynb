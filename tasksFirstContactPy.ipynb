{
 "cells": [
  {
   "cell_type": "code",
   "execution_count": 19,
   "id": "6c96461c-8a77-45c5-b29a-fab027b3c685",
   "metadata": {},
   "outputs": [
    {
     "name": "stdout",
     "output_type": "stream",
     "text": [
      "Lista: [0, 1, 2, 3, 4, 5, 6, 7, 8, 9, 10, 11, 12, 13, 14, 15]\n",
      "1)\n",
      "Printe a lista reversa: [15, 14, 13, 12, 11, 10, 9, 8, 7, 6, 5, 4, 3, 2, 1, 0]\n",
      "2)\n",
      "Selecione os elementos de índice 1 a 9: [1, 2, 3, 4, 5, 6, 7, 8]\n",
      "3)\n",
      "Selecione somente os elementos de índice impar: [1, 3, 5, 7, 9, 11, 13, 15]\n"
     ]
    }
   ],
   "source": [
    "#Exercícios \n",
    "\n",
    "lista = [0,1,2,3,4,5,6,7,8,9,10,11,12,13,14,15]\n",
    "print(\"Lista: \" + str(lista))\n",
    "#1)\n",
    "print (\"1)\")\n",
    "print (\"Printe a lista reversa: \" + str(lista[::-1]))\n",
    "#2)\n",
    "print (\"2)\")\n",
    "print (\"Selecione os elementos de índice 1 a 9: \" + str(lista[1:9]))\n",
    "#3)\n",
    "print (\"3)\")\n",
    "print (\"Selecione somente os elementos de índice impar: \" + str(lista[1::2]))"
   ]
  },
  {
   "cell_type": "code",
   "execution_count": null,
   "id": "dbc30afc-7f6f-4d79-978a-580c5e33dbfe",
   "metadata": {},
   "outputs": [],
   "source": []
  }
 ],
 "metadata": {
  "kernelspec": {
   "display_name": "Python 3 (ipykernel)",
   "language": "python",
   "name": "python3"
  },
  "language_info": {
   "codemirror_mode": {
    "name": "ipython",
    "version": 3
   },
   "file_extension": ".py",
   "mimetype": "text/x-python",
   "name": "python",
   "nbconvert_exporter": "python",
   "pygments_lexer": "ipython3",
   "version": "3.11.2"
  }
 },
 "nbformat": 4,
 "nbformat_minor": 5
}
