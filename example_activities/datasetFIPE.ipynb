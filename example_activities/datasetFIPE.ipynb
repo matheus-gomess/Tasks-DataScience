{
 "cells": [
  {
   "cell_type": "code",
   "execution_count": 51,
   "metadata": {},
   "outputs": [
    {
     "name": "stdout",
     "output_type": "stream",
     "text": [
      "O preço mínimo de um carro em 2023 é: R$ 1985.0\n",
      "O preço máximo de um carro em 2023 é: R$ 8600000.0\n",
      "Carros que custam entre 5.000 e 7.000 reais em 2023:\n",
      "                  Marca                         Modelo  Ano de fabrição  \\\n",
      "575733             Baby               Buggy 1.6 2-Lug.             1997   \n",
      "575762             Baby  Buggy 1.6/ TST/ RS 1.6 4-Lug.             1998   \n",
      "575763             Baby  Buggy 1.6/ TST/ RS 1.6 4-Lug.             1997   \n",
      "575764             Baby  Buggy 1.6/ TST/ RS 1.6 4-Lug.             1996   \n",
      "576653              BRM         Buggy/M-8/M-8 Long 1.6             1994   \n",
      "...                 ...                            ...              ...   \n",
      "596810  VW - VolksWagen   Gol Furgão 1.6 Mi/ 1.6i/ 1.6             1991   \n",
      "598462            Volvo         460 GLT 2.0/ Turbo 1.8             1993   \n",
      "598463            Volvo         460 GLT 2.0/ Turbo 1.8             1992   \n",
      "598553            Volvo                  440 Turbo 1.8             1993   \n",
      "598554            Volvo                  440 Turbo 1.8             1992   \n",
      "\n",
      "        avg_price_brl  \n",
      "575733         5116.0  \n",
      "575762         6071.0  \n",
      "575763         5369.0  \n",
      "575764         5197.0  \n",
      "576653         6767.0  \n",
      "...               ...  \n",
      "596810         5655.0  \n",
      "598462         6927.0  \n",
      "598463         6648.0  \n",
      "598553         6435.0  \n",
      "598554         6257.0  \n",
      "\n",
      "[456 rows x 4 columns]\n"
     ]
    }
   ],
   "source": [
    "#Essa atividade nos mostra como usar um dataset e como obter informações dele\n",
    "import pandas as pd\n",
    "\n",
    "df = pd.read_csv(\"../fipe_cars.csv\")\n",
    "\n",
    "# Filtrar os dados para o ano de referência 2023\n",
    "df_2023 = df[df[\"year_of_reference\"] == 2023]\n",
    "\n",
    "# Preço mínimo de um carro em 2023\n",
    "preco_minimo = df_2023[\"avg_price_brl\"].min()\n",
    "print(f\"O preço mínimo de um carro em 2023 é: R$ {preco_minimo}\")\n",
    "\n",
    "# Preço máximo de um carro em 2023\n",
    "preco_maximo = df_2023[\"avg_price_brl\"].max()\n",
    "print(f\"O preço máximo de um carro em 2023 é: R$ {preco_maximo}\")\n",
    "\n",
    "# Carros entre 5.000 e 7.000 reais em 2023\n",
    "carros_5k_7k = df_2023[(df_2023[\"avg_price_brl\"] >= 5000) & (df_2023[\"avg_price_brl\"] <= 7000)]\n",
    "print(\"Carros que custam entre 5.000 e 7.000 reais em 2023:\")\n",
    "print(carros_5k_7k[[\"Marca\", \"Modelo\", \"Ano de fabrição\", \"avg_price_brl\"]])\n"
   ]
  }
 ],
 "metadata": {
  "kernelspec": {
   "display_name": "Python 3",
   "language": "python",
   "name": "python3"
  },
  "language_info": {
   "codemirror_mode": {
    "name": "ipython",
    "version": 3
   },
   "file_extension": ".py",
   "mimetype": "text/x-python",
   "name": "python",
   "nbconvert_exporter": "python",
   "pygments_lexer": "ipython3",
   "version": "3.11.9"
  }
 },
 "nbformat": 4,
 "nbformat_minor": 2
}
