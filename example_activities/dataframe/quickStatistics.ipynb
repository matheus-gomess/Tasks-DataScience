{
 "cells": [
  {
   "cell_type": "code",
   "execution_count": 15,
   "metadata": {},
   "outputs": [
    {
     "name": "stdout",
     "output_type": "stream",
     "text": [
      "           IDADE       NOTA\n",
      "count   7.000000   7.000000\n",
      "mean   14.714286  74.285714\n",
      "std     1.799471  19.661420\n",
      "min    13.000000  44.000000\n",
      "25%    13.500000  60.000000\n",
      "50%    14.000000  83.000000\n",
      "75%    15.500000  87.500000\n",
      "max    18.000000  98.000000\n",
      "Relação entre idade e nota: 0.775\n",
      "Alunos mais VELHOS tem melhor nota\n"
     ]
    }
   ],
   "source": [
    "#Atividade mostrando como criar estatísticas rápidas\n",
    "import pandas as pd\n",
    "\n",
    "dados = {\n",
    "    'NOME':['Pedro','Maria','Janaina','Wong','Roberto','Marco','Paula'],\n",
    "    'CIDADE':['Porto Alegre','São Paulo','Rio de Janeiro','Brasília','Salvador','Curitiba','Belo Horizonte'],\n",
    "    'IDADE':[14,13,15,16,18,13,14],\n",
    "    'NOTA':[83.0,59.0,86.0,89.0,98.0,61.0,44.0]\n",
    "}\n",
    "\n",
    "dfAlunos = pd.DataFrame(data=dados)\n",
    "\n",
    "#Criando um arquivo CSV para o data frame\n",
    "dfAlunos.to_csv(\"alunosMedia.csv\", index=False)\n",
    "\n",
    "print(dfAlunos.describe())\n",
    "\n",
    "#Fazendo uma relação entre idade e nota\n",
    "pearson = dfAlunos['IDADE'].corr(dfAlunos['NOTA'])\n",
    "print('Relação entre idade e nota: ' + str(round(pearson, 3)))\n",
    "if ( pearson > 0.5):\n",
    " print('Alunos mais VELHOS tem melhor nota')\n",
    "elif ( pearson < 0.5):\n",
    " print ('Alunos mais NOVOS tem melhor nota')\n",
    "else:\n",
    " print ('Nao há relacao entre idade e nota')"
   ]
  }
 ],
 "metadata": {
  "kernelspec": {
   "display_name": "Python 3",
   "language": "python",
   "name": "python3"
  },
  "language_info": {
   "codemirror_mode": {
    "name": "ipython",
    "version": 3
   },
   "file_extension": ".py",
   "mimetype": "text/x-python",
   "name": "python",
   "nbconvert_exporter": "python",
   "pygments_lexer": "ipython3",
   "version": "3.11.9"
  }
 },
 "nbformat": 4,
 "nbformat_minor": 2
}
