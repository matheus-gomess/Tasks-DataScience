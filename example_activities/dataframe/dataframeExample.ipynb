{
 "cells": [
  {
   "cell_type": "code",
   "execution_count": 6,
   "metadata": {},
   "outputs": [
    {
     "name": "stdout",
     "output_type": "stream",
     "text": [
      "      NOME          CIDADE  IDADE  NOTA\n",
      "0    Pedro    Porto Alegre     14  83.0\n",
      "1    Maria       São Paulo     13  59.0\n",
      "2  Janaina  Rio de Janeiro     15  86.0\n",
      "3     Wong        Brasília     16  89.0\n",
      "4  Roberto        Salvador     18  98.0\n",
      "5    Marco        Curitiba     13  61.0\n",
      "6    Paula  Belo Horizonte     14  44.0\n"
     ]
    }
   ],
   "source": [
    "#Atividade mostrando como cria um dataframe\n",
    "import pandas as pd\n",
    "\n",
    "dados = {\n",
    "    'NOME':['Pedro','Maria','Janaina','Wong','Roberto','Marco','Paula'],\n",
    "    'CIDADE':['Porto Alegre','São Paulo','Rio de Janeiro','Brasília','Salvador','Curitiba','Belo Horizonte'],\n",
    "    'IDADE':[14,13,15,16,18,13,14],\n",
    "    'NOTA':[83.0,59.0,86.0,89.0,98.0,61.0,44.0]\n",
    "}\n",
    "dfAlunos = pd.DataFrame(data=dados)\n",
    "\n",
    "print(dfAlunos)"
   ]
  }
 ],
 "metadata": {
  "kernelspec": {
   "display_name": "Python 3",
   "language": "python",
   "name": "python3"
  },
  "language_info": {
   "codemirror_mode": {
    "name": "ipython",
    "version": 3
   },
   "file_extension": ".py",
   "mimetype": "text/x-python",
   "name": "python",
   "nbconvert_exporter": "python",
   "pygments_lexer": "ipython3",
   "version": "3.11.9"
  }
 },
 "nbformat": 4,
 "nbformat_minor": 2
}
